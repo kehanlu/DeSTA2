{
 "cells": [
  {
   "cell_type": "markdown",
   "metadata": {},
   "source": [
    "# Inference with NVILA\n",
    "\n",
    "## Install this package\n",
    "\n",
    "```\n",
    "git clone git@github.com:kehanlu/DeSTA2.git\n",
    "cd DeSTA2\n",
    "pip install -e .\n",
    "```\n"
   ]
  },
  {
   "cell_type": "code",
   "execution_count": null,
   "metadata": {},
   "outputs": [],
   "source": [
    "import os\n",
    "from huggingface_hub import snapshot_download, hf_hub_download\n",
    "\n",
    "## Download LLM ##\n",
    "path = snapshot_download(repo_id=\"Efficient-Large-Model/NVILA-8B\", cache_dir=\"/NeMo/.cache\")\n",
    "llm_path = os.path.join(path, \"llm\") # We only use the LLM part of the model\n",
    "print(llm_path) \n",
    "\n",
    "## Download Qformer ckpt ##\n",
    "# qformer_ckpt_path = hf_hub_download(repo_id=\"kehanlu/share\", filename=\"DeSTA2/250218-09-desta-nvila-8B.pth\") # from 10 epoch\n",
    "qformer_ckpt_path = hf_hub_download(repo_id=\"kehanlu/share\", filename=\"DeSTA2/250218-09-desta-nvila-8B-5ep.pth\") # from 5 epoch\n",
    "print(qformer_ckpt_path)\n",
    "\n"
   ]
  },
  {
   "cell_type": "code",
   "execution_count": null,
   "metadata": {},
   "outputs": [],
   "source": [
    "from desta.modeling_desta import Desta2Config, DestaModel\n",
    "import torch\n",
    "config = Desta2Config(\n",
    "    llama_model_id=llm_path,\n",
    "    whisper_model_id=\"openai/whisper-medium\",\n",
    "    prompt_size=64,\n",
    ")\n",
    "model = DestaModel(config)\n",
    "model.speech_perception.connector.load_state_dict(\n",
    "    torch.load(qformer_ckpt_path)\n",
    ")\n",
    "model.to(\"cuda:1\")"
   ]
  },
  {
   "cell_type": "code",
   "execution_count": null,
   "metadata": {},
   "outputs": [],
   "source": [
    "# you can change the system prompt\n",
    "# the audio format: [[Audio: /path/to/audio]]\n",
    "\n",
    "messages = [\n",
    "            {\"role\": \"system\", \"content\": \"Follow the instruction.\"},\n",
    "            {\"role\": \"user\", \"content\": \"\"\"[[Audio:/NeMo/workspace/DeSTA2/assets/audios/4_0_d47.wav]]\n",
    "             \n",
    "Transcribe the speech.\n",
    "\"\"\"}]\n",
    "\n",
    "outputs = model.chat_multiple_audios(messages,\n",
    "                                     do_sample=False,\n",
    "                                     temperature=1.0,\n",
    "                                     top_p=1.0,\n",
    "                                     max_new_tokens=256,\n",
    "                                     audio_template=\"<start_audio>!!!!!!!!{transcription}<end_audio>\",\n",
    "                                     audio_placeholder=\"!!!!!!!!\")\n",
    "\n",
    "print(model.tokenizer.decode(outputs[0]))"
   ]
  },
  {
   "cell_type": "code",
   "execution_count": null,
   "metadata": {},
   "outputs": [],
   "source": []
  },
  {
   "cell_type": "code",
   "execution_count": null,
   "metadata": {},
   "outputs": [],
   "source": []
  }
 ],
 "metadata": {
  "kernelspec": {
   "display_name": "Python 3",
   "language": "python",
   "name": "python3"
  },
  "language_info": {
   "codemirror_mode": {
    "name": "ipython",
    "version": 3
   },
   "file_extension": ".py",
   "mimetype": "text/x-python",
   "name": "python",
   "nbconvert_exporter": "python",
   "pygments_lexer": "ipython3",
   "version": "3.10.12"
  }
 },
 "nbformat": 4,
 "nbformat_minor": 2
}
